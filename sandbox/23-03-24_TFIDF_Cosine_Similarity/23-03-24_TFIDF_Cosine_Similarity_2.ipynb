{
 "cells": [
  {
   "cell_type": "code",
   "execution_count": 412,
   "metadata": {},
   "outputs": [],
   "source": [
    "import numpy as np\n",
    "import pandas as pd\n",
    "from sklearn.feature_extraction import DictVectorizer\n",
    "from sklearn.feature_extraction.text import TfidfTransformer\n",
    "from sklearn.metrics.pairwise import cosine_similarity"
   ]
  },
  {
   "cell_type": "markdown",
   "metadata": {},
   "source": [
    "### Read disease/phenotype data"
   ]
  },
  {
   "cell_type": "code",
   "execution_count": 413,
   "metadata": {
    "scrolled": true
   },
   "outputs": [
    {
     "name": "stderr",
     "output_type": "stream",
     "text": [
      "/Users/bmoore/opt/anaconda3/lib/python3.8/site-packages/IPython/core/interactiveshell.py:3338: DtypeWarning: Columns (6,8,9) have mixed types.Specify dtype option on import or set low_memory=False.\n",
      "  if (await self.run_code(code, result,  async_=asy)):\n"
     ]
    }
   ],
   "source": [
    "corpus_df = pd.read_table('phenotype.hpoa', skiprows=4)"
   ]
  },
  {
   "cell_type": "markdown",
   "metadata": {},
   "source": [
    "Do something clever here with qualifier (NOT), Evidence (IEA), Onset (congenital, adult etc) and Frequency (4/10)"
   ]
  },
  {
   "cell_type": "code",
   "execution_count": 414,
   "metadata": {},
   "outputs": [
    {
     "name": "stdout",
     "output_type": "stream",
     "text": [
      "<class 'pandas.core.frame.DataFrame'>\n",
      "RangeIndex: 253363 entries, 0 to 253362\n",
      "Data columns (total 12 columns):\n",
      " #   Column       Non-Null Count   Dtype \n",
      "---  ------       --------------   ----- \n",
      " 0   #DatabaseID  253363 non-null  object\n",
      " 1   DiseaseName  253363 non-null  object\n",
      " 2   Qualifier    1430 non-null    object\n",
      " 3   HPO_ID       253363 non-null  object\n",
      " 4   Reference    253363 non-null  object\n",
      " 5   Evidence     253363 non-null  object\n",
      " 6   Onset        2835 non-null    object\n",
      " 7   Frequency    176862 non-null  object\n",
      " 8   Sex          587 non-null     object\n",
      " 9   Modifier     1044 non-null    object\n",
      " 10  Aspect       253363 non-null  object\n",
      " 11  Biocuration  253363 non-null  object\n",
      "dtypes: object(12)\n",
      "memory usage: 23.2+ MB\n"
     ]
    }
   ],
   "source": [
    "corpus_df.info()"
   ]
  },
  {
   "cell_type": "code",
   "execution_count": 415,
   "metadata": {},
   "outputs": [
    {
     "data": {
      "text/html": [
       "<div>\n",
       "<style scoped>\n",
       "    .dataframe tbody tr th:only-of-type {\n",
       "        vertical-align: middle;\n",
       "    }\n",
       "\n",
       "    .dataframe tbody tr th {\n",
       "        vertical-align: top;\n",
       "    }\n",
       "\n",
       "    .dataframe thead th {\n",
       "        text-align: right;\n",
       "    }\n",
       "</style>\n",
       "<table border=\"1\" class=\"dataframe\">\n",
       "  <thead>\n",
       "    <tr style=\"text-align: right;\">\n",
       "      <th></th>\n",
       "      <th>label</th>\n",
       "      <th>DiseaseName</th>\n",
       "      <th>Qualifier</th>\n",
       "      <th>hpo</th>\n",
       "      <th>Reference</th>\n",
       "      <th>Evidence</th>\n",
       "      <th>Onset</th>\n",
       "      <th>Frequency</th>\n",
       "      <th>Sex</th>\n",
       "      <th>Modifier</th>\n",
       "      <th>Aspect</th>\n",
       "      <th>Biocuration</th>\n",
       "    </tr>\n",
       "  </thead>\n",
       "  <tbody>\n",
       "    <tr>\n",
       "      <th>0</th>\n",
       "      <td>OMIM:203400</td>\n",
       "      <td>Corticosterone methyloxidase type I deficiency</td>\n",
       "      <td>NaN</td>\n",
       "      <td>HP:0002013</td>\n",
       "      <td>OMIM:203400</td>\n",
       "      <td>IEA</td>\n",
       "      <td>NaN</td>\n",
       "      <td>NaN</td>\n",
       "      <td>NaN</td>\n",
       "      <td>NaN</td>\n",
       "      <td>P</td>\n",
       "      <td>HPO:iea[2009-02-17]</td>\n",
       "    </tr>\n",
       "    <tr>\n",
       "      <th>1</th>\n",
       "      <td>OMIM:203400</td>\n",
       "      <td>Corticosterone methyloxidase type I deficiency</td>\n",
       "      <td>NaN</td>\n",
       "      <td>HP:0002153</td>\n",
       "      <td>OMIM:203400</td>\n",
       "      <td>IEA</td>\n",
       "      <td>NaN</td>\n",
       "      <td>NaN</td>\n",
       "      <td>NaN</td>\n",
       "      <td>NaN</td>\n",
       "      <td>P</td>\n",
       "      <td>HPO:iea[2009-02-17]</td>\n",
       "    </tr>\n",
       "    <tr>\n",
       "      <th>2</th>\n",
       "      <td>OMIM:203400</td>\n",
       "      <td>Corticosterone methyloxidase type I deficiency</td>\n",
       "      <td>NaN</td>\n",
       "      <td>HP:0000848</td>\n",
       "      <td>OMIM:203400</td>\n",
       "      <td>IEA</td>\n",
       "      <td>NaN</td>\n",
       "      <td>NaN</td>\n",
       "      <td>NaN</td>\n",
       "      <td>NaN</td>\n",
       "      <td>P</td>\n",
       "      <td>HPO:iea[2009-02-17]</td>\n",
       "    </tr>\n",
       "    <tr>\n",
       "      <th>3</th>\n",
       "      <td>OMIM:203400</td>\n",
       "      <td>Corticosterone methyloxidase type I deficiency</td>\n",
       "      <td>NaN</td>\n",
       "      <td>HP:0001508</td>\n",
       "      <td>OMIM:203400</td>\n",
       "      <td>IEA</td>\n",
       "      <td>NaN</td>\n",
       "      <td>NaN</td>\n",
       "      <td>NaN</td>\n",
       "      <td>NaN</td>\n",
       "      <td>P</td>\n",
       "      <td>HPO:iea[2009-02-17]</td>\n",
       "    </tr>\n",
       "    <tr>\n",
       "      <th>4</th>\n",
       "      <td>OMIM:203400</td>\n",
       "      <td>Corticosterone methyloxidase type I deficiency</td>\n",
       "      <td>NaN</td>\n",
       "      <td>HP:0001944</td>\n",
       "      <td>OMIM:203400</td>\n",
       "      <td>IEA</td>\n",
       "      <td>NaN</td>\n",
       "      <td>NaN</td>\n",
       "      <td>NaN</td>\n",
       "      <td>NaN</td>\n",
       "      <td>P</td>\n",
       "      <td>HPO:iea[2009-02-17]</td>\n",
       "    </tr>\n",
       "    <tr>\n",
       "      <th>...</th>\n",
       "      <td>...</td>\n",
       "      <td>...</td>\n",
       "      <td>...</td>\n",
       "      <td>...</td>\n",
       "      <td>...</td>\n",
       "      <td>...</td>\n",
       "      <td>...</td>\n",
       "      <td>...</td>\n",
       "      <td>...</td>\n",
       "      <td>...</td>\n",
       "      <td>...</td>\n",
       "      <td>...</td>\n",
       "    </tr>\n",
       "    <tr>\n",
       "      <th>253358</th>\n",
       "      <td>ORPHA:1777</td>\n",
       "      <td>Temtamy syndrome</td>\n",
       "      <td>NaN</td>\n",
       "      <td>HP:0001831</td>\n",
       "      <td>ORPHA:1777</td>\n",
       "      <td>TAS</td>\n",
       "      <td>NaN</td>\n",
       "      <td>HP:0040281</td>\n",
       "      <td>NaN</td>\n",
       "      <td>NaN</td>\n",
       "      <td>P</td>\n",
       "      <td>ORPHA:orphadata[2023-01-27]</td>\n",
       "    </tr>\n",
       "    <tr>\n",
       "      <th>253359</th>\n",
       "      <td>ORPHA:1777</td>\n",
       "      <td>Temtamy syndrome</td>\n",
       "      <td>NaN</td>\n",
       "      <td>HP:0002970</td>\n",
       "      <td>ORPHA:1777</td>\n",
       "      <td>TAS</td>\n",
       "      <td>NaN</td>\n",
       "      <td>HP:0040282</td>\n",
       "      <td>NaN</td>\n",
       "      <td>NaN</td>\n",
       "      <td>P</td>\n",
       "      <td>ORPHA:orphadata[2023-01-27]</td>\n",
       "    </tr>\n",
       "    <tr>\n",
       "      <th>253360</th>\n",
       "      <td>ORPHA:1777</td>\n",
       "      <td>Temtamy syndrome</td>\n",
       "      <td>NaN</td>\n",
       "      <td>HP:0004209</td>\n",
       "      <td>ORPHA:1777</td>\n",
       "      <td>TAS</td>\n",
       "      <td>NaN</td>\n",
       "      <td>HP:0040283</td>\n",
       "      <td>NaN</td>\n",
       "      <td>NaN</td>\n",
       "      <td>P</td>\n",
       "      <td>ORPHA:orphadata[2023-01-27]</td>\n",
       "    </tr>\n",
       "    <tr>\n",
       "      <th>253361</th>\n",
       "      <td>ORPHA:1777</td>\n",
       "      <td>Temtamy syndrome</td>\n",
       "      <td>NaN</td>\n",
       "      <td>HP:0005692</td>\n",
       "      <td>ORPHA:1777</td>\n",
       "      <td>TAS</td>\n",
       "      <td>NaN</td>\n",
       "      <td>HP:0040283</td>\n",
       "      <td>NaN</td>\n",
       "      <td>NaN</td>\n",
       "      <td>P</td>\n",
       "      <td>ORPHA:orphadata[2023-01-27]</td>\n",
       "    </tr>\n",
       "    <tr>\n",
       "      <th>253362</th>\n",
       "      <td>ORPHA:1777</td>\n",
       "      <td>Temtamy syndrome</td>\n",
       "      <td>NaN</td>\n",
       "      <td>HP:0007370</td>\n",
       "      <td>ORPHA:1777</td>\n",
       "      <td>TAS</td>\n",
       "      <td>NaN</td>\n",
       "      <td>HP:0040281</td>\n",
       "      <td>NaN</td>\n",
       "      <td>NaN</td>\n",
       "      <td>P</td>\n",
       "      <td>ORPHA:orphadata[2023-01-27]</td>\n",
       "    </tr>\n",
       "  </tbody>\n",
       "</table>\n",
       "<p>253363 rows × 12 columns</p>\n",
       "</div>"
      ],
      "text/plain": [
       "              label                                     DiseaseName Qualifier  \\\n",
       "0       OMIM:203400  Corticosterone methyloxidase type I deficiency       NaN   \n",
       "1       OMIM:203400  Corticosterone methyloxidase type I deficiency       NaN   \n",
       "2       OMIM:203400  Corticosterone methyloxidase type I deficiency       NaN   \n",
       "3       OMIM:203400  Corticosterone methyloxidase type I deficiency       NaN   \n",
       "4       OMIM:203400  Corticosterone methyloxidase type I deficiency       NaN   \n",
       "...             ...                                             ...       ...   \n",
       "253358   ORPHA:1777                                Temtamy syndrome       NaN   \n",
       "253359   ORPHA:1777                                Temtamy syndrome       NaN   \n",
       "253360   ORPHA:1777                                Temtamy syndrome       NaN   \n",
       "253361   ORPHA:1777                                Temtamy syndrome       NaN   \n",
       "253362   ORPHA:1777                                Temtamy syndrome       NaN   \n",
       "\n",
       "               hpo    Reference Evidence Onset   Frequency  Sex Modifier  \\\n",
       "0       HP:0002013  OMIM:203400      IEA   NaN         NaN  NaN      NaN   \n",
       "1       HP:0002153  OMIM:203400      IEA   NaN         NaN  NaN      NaN   \n",
       "2       HP:0000848  OMIM:203400      IEA   NaN         NaN  NaN      NaN   \n",
       "3       HP:0001508  OMIM:203400      IEA   NaN         NaN  NaN      NaN   \n",
       "4       HP:0001944  OMIM:203400      IEA   NaN         NaN  NaN      NaN   \n",
       "...            ...          ...      ...   ...         ...  ...      ...   \n",
       "253358  HP:0001831   ORPHA:1777      TAS   NaN  HP:0040281  NaN      NaN   \n",
       "253359  HP:0002970   ORPHA:1777      TAS   NaN  HP:0040282  NaN      NaN   \n",
       "253360  HP:0004209   ORPHA:1777      TAS   NaN  HP:0040283  NaN      NaN   \n",
       "253361  HP:0005692   ORPHA:1777      TAS   NaN  HP:0040283  NaN      NaN   \n",
       "253362  HP:0007370   ORPHA:1777      TAS   NaN  HP:0040281  NaN      NaN   \n",
       "\n",
       "       Aspect                  Biocuration  \n",
       "0           P          HPO:iea[2009-02-17]  \n",
       "1           P          HPO:iea[2009-02-17]  \n",
       "2           P          HPO:iea[2009-02-17]  \n",
       "3           P          HPO:iea[2009-02-17]  \n",
       "4           P          HPO:iea[2009-02-17]  \n",
       "...       ...                          ...  \n",
       "253358      P  ORPHA:orphadata[2023-01-27]  \n",
       "253359      P  ORPHA:orphadata[2023-01-27]  \n",
       "253360      P  ORPHA:orphadata[2023-01-27]  \n",
       "253361      P  ORPHA:orphadata[2023-01-27]  \n",
       "253362      P  ORPHA:orphadata[2023-01-27]  \n",
       "\n",
       "[253363 rows x 12 columns]"
      ]
     },
     "execution_count": 415,
     "metadata": {},
     "output_type": "execute_result"
    }
   ],
   "source": [
    "corpus_df.rename(columns={'#DatabaseID': 'label', 'HPO_ID': 'hpo'}, inplace=True)\n",
    "corpus_df"
   ]
  },
  {
   "cell_type": "code",
   "execution_count": 416,
   "metadata": {},
   "outputs": [],
   "source": [
    "corpus_df = corpus_df[['label', 'hpo']]"
   ]
  },
  {
   "cell_type": "code",
   "execution_count": 417,
   "metadata": {},
   "outputs": [
    {
     "data": {
      "text/html": [
       "<div>\n",
       "<style scoped>\n",
       "    .dataframe tbody tr th:only-of-type {\n",
       "        vertical-align: middle;\n",
       "    }\n",
       "\n",
       "    .dataframe tbody tr th {\n",
       "        vertical-align: top;\n",
       "    }\n",
       "\n",
       "    .dataframe thead th {\n",
       "        text-align: right;\n",
       "    }\n",
       "</style>\n",
       "<table border=\"1\" class=\"dataframe\">\n",
       "  <thead>\n",
       "    <tr style=\"text-align: right;\">\n",
       "      <th></th>\n",
       "      <th>label</th>\n",
       "      <th>hpo</th>\n",
       "    </tr>\n",
       "  </thead>\n",
       "  <tbody>\n",
       "    <tr>\n",
       "      <th>0</th>\n",
       "      <td>OMIM:203400</td>\n",
       "      <td>HP:0002013</td>\n",
       "    </tr>\n",
       "    <tr>\n",
       "      <th>1</th>\n",
       "      <td>OMIM:203400</td>\n",
       "      <td>HP:0002153</td>\n",
       "    </tr>\n",
       "    <tr>\n",
       "      <th>2</th>\n",
       "      <td>OMIM:203400</td>\n",
       "      <td>HP:0000848</td>\n",
       "    </tr>\n",
       "    <tr>\n",
       "      <th>3</th>\n",
       "      <td>OMIM:203400</td>\n",
       "      <td>HP:0001508</td>\n",
       "    </tr>\n",
       "    <tr>\n",
       "      <th>4</th>\n",
       "      <td>OMIM:203400</td>\n",
       "      <td>HP:0001944</td>\n",
       "    </tr>\n",
       "    <tr>\n",
       "      <th>...</th>\n",
       "      <td>...</td>\n",
       "      <td>...</td>\n",
       "    </tr>\n",
       "    <tr>\n",
       "      <th>253358</th>\n",
       "      <td>ORPHA:1777</td>\n",
       "      <td>HP:0001831</td>\n",
       "    </tr>\n",
       "    <tr>\n",
       "      <th>253359</th>\n",
       "      <td>ORPHA:1777</td>\n",
       "      <td>HP:0002970</td>\n",
       "    </tr>\n",
       "    <tr>\n",
       "      <th>253360</th>\n",
       "      <td>ORPHA:1777</td>\n",
       "      <td>HP:0004209</td>\n",
       "    </tr>\n",
       "    <tr>\n",
       "      <th>253361</th>\n",
       "      <td>ORPHA:1777</td>\n",
       "      <td>HP:0005692</td>\n",
       "    </tr>\n",
       "    <tr>\n",
       "      <th>253362</th>\n",
       "      <td>ORPHA:1777</td>\n",
       "      <td>HP:0007370</td>\n",
       "    </tr>\n",
       "  </tbody>\n",
       "</table>\n",
       "<p>253363 rows × 2 columns</p>\n",
       "</div>"
      ],
      "text/plain": [
       "              label         hpo\n",
       "0       OMIM:203400  HP:0002013\n",
       "1       OMIM:203400  HP:0002153\n",
       "2       OMIM:203400  HP:0000848\n",
       "3       OMIM:203400  HP:0001508\n",
       "4       OMIM:203400  HP:0001944\n",
       "...             ...         ...\n",
       "253358   ORPHA:1777  HP:0001831\n",
       "253359   ORPHA:1777  HP:0002970\n",
       "253360   ORPHA:1777  HP:0004209\n",
       "253361   ORPHA:1777  HP:0005692\n",
       "253362   ORPHA:1777  HP:0007370\n",
       "\n",
       "[253363 rows x 2 columns]"
      ]
     },
     "execution_count": 417,
     "metadata": {},
     "output_type": "execute_result"
    }
   ],
   "source": [
    "corpus_df"
   ]
  },
  {
   "cell_type": "code",
   "execution_count": 419,
   "metadata": {},
   "outputs": [],
   "source": [
    "corpus_dict = corpus_df.to_dict(orient='record')"
   ]
  },
  {
   "cell_type": "code",
   "execution_count": 423,
   "metadata": {},
   "outputs": [
    {
     "data": {
      "text/plain": [
       "array([[0., 0., 0., ..., 0., 0., 0.],\n",
       "       [0., 0., 0., ..., 0., 0., 0.],\n",
       "       [0., 0., 0., ..., 0., 0., 0.],\n",
       "       ...,\n",
       "       [0., 0., 0., ..., 0., 0., 0.],\n",
       "       [0., 0., 0., ..., 0., 0., 0.],\n",
       "       [0., 0., 0., ..., 0., 0., 0.]])"
      ]
     },
     "execution_count": 423,
     "metadata": {},
     "output_type": "execute_result"
    }
   ],
   "source": [
    "vec = DictVectorizer(sparse=False)\n",
    "corpus_vec= vec.fit_transform(corpus_dict)\n",
    "corpus_vec"
   ]
  },
  {
   "cell_type": "code",
   "execution_count": 424,
   "metadata": {},
   "outputs": [
    {
     "ename": "AttributeError",
     "evalue": "'numpy.ndarray' object has no attribute 'lower'",
     "output_type": "error",
     "traceback": [
      "\u001b[0;31m---------------------------------------------------------------------------\u001b[0m",
      "\u001b[0;31mAttributeError\u001b[0m                            Traceback (most recent call last)",
      "\u001b[0;32m<ipython-input-424-4c7d1ef5f860>\u001b[0m in \u001b[0;36m<module>\u001b[0;34m\u001b[0m\n\u001b[1;32m      1\u001b[0m \u001b[0mvectorizer\u001b[0m \u001b[0;34m=\u001b[0m \u001b[0mTfidfVectorizer\u001b[0m\u001b[0;34m(\u001b[0m\u001b[0;34m)\u001b[0m\u001b[0;34m\u001b[0m\u001b[0;34m\u001b[0m\u001b[0m\n\u001b[0;32m----> 2\u001b[0;31m \u001b[0mcorpus_tfidf\u001b[0m \u001b[0;34m=\u001b[0m \u001b[0mvectorizer\u001b[0m\u001b[0;34m.\u001b[0m\u001b[0mfit_transform\u001b[0m\u001b[0;34m(\u001b[0m\u001b[0mcorpus_vec\u001b[0m\u001b[0;34m)\u001b[0m\u001b[0;34m\u001b[0m\u001b[0;34m\u001b[0m\u001b[0m\n\u001b[0m",
      "\u001b[0;32m~/opt/anaconda3/lib/python3.8/site-packages/sklearn/feature_extraction/text.py\u001b[0m in \u001b[0;36mfit_transform\u001b[0;34m(self, raw_documents, y)\u001b[0m\n\u001b[1;32m   1839\u001b[0m         \"\"\"\n\u001b[1;32m   1840\u001b[0m         \u001b[0mself\u001b[0m\u001b[0;34m.\u001b[0m\u001b[0m_check_params\u001b[0m\u001b[0;34m(\u001b[0m\u001b[0;34m)\u001b[0m\u001b[0;34m\u001b[0m\u001b[0;34m\u001b[0m\u001b[0m\n\u001b[0;32m-> 1841\u001b[0;31m         \u001b[0mX\u001b[0m \u001b[0;34m=\u001b[0m \u001b[0msuper\u001b[0m\u001b[0;34m(\u001b[0m\u001b[0;34m)\u001b[0m\u001b[0;34m.\u001b[0m\u001b[0mfit_transform\u001b[0m\u001b[0;34m(\u001b[0m\u001b[0mraw_documents\u001b[0m\u001b[0;34m)\u001b[0m\u001b[0;34m\u001b[0m\u001b[0;34m\u001b[0m\u001b[0m\n\u001b[0m\u001b[1;32m   1842\u001b[0m         \u001b[0mself\u001b[0m\u001b[0;34m.\u001b[0m\u001b[0m_tfidf\u001b[0m\u001b[0;34m.\u001b[0m\u001b[0mfit\u001b[0m\u001b[0;34m(\u001b[0m\u001b[0mX\u001b[0m\u001b[0;34m)\u001b[0m\u001b[0;34m\u001b[0m\u001b[0;34m\u001b[0m\u001b[0m\n\u001b[1;32m   1843\u001b[0m         \u001b[0;31m# X is already a transformed view of raw_documents so\u001b[0m\u001b[0;34m\u001b[0m\u001b[0;34m\u001b[0m\u001b[0;34m\u001b[0m\u001b[0m\n",
      "\u001b[0;32m~/opt/anaconda3/lib/python3.8/site-packages/sklearn/feature_extraction/text.py\u001b[0m in \u001b[0;36mfit_transform\u001b[0;34m(self, raw_documents, y)\u001b[0m\n\u001b[1;32m   1196\u001b[0m         \u001b[0mmax_features\u001b[0m \u001b[0;34m=\u001b[0m \u001b[0mself\u001b[0m\u001b[0;34m.\u001b[0m\u001b[0mmax_features\u001b[0m\u001b[0;34m\u001b[0m\u001b[0;34m\u001b[0m\u001b[0m\n\u001b[1;32m   1197\u001b[0m \u001b[0;34m\u001b[0m\u001b[0m\n\u001b[0;32m-> 1198\u001b[0;31m         vocabulary, X = self._count_vocab(raw_documents,\n\u001b[0m\u001b[1;32m   1199\u001b[0m                                           self.fixed_vocabulary_)\n\u001b[1;32m   1200\u001b[0m \u001b[0;34m\u001b[0m\u001b[0m\n",
      "\u001b[0;32m~/opt/anaconda3/lib/python3.8/site-packages/sklearn/feature_extraction/text.py\u001b[0m in \u001b[0;36m_count_vocab\u001b[0;34m(self, raw_documents, fixed_vocab)\u001b[0m\n\u001b[1;32m   1108\u001b[0m         \u001b[0;32mfor\u001b[0m \u001b[0mdoc\u001b[0m \u001b[0;32min\u001b[0m \u001b[0mraw_documents\u001b[0m\u001b[0;34m:\u001b[0m\u001b[0;34m\u001b[0m\u001b[0;34m\u001b[0m\u001b[0m\n\u001b[1;32m   1109\u001b[0m             \u001b[0mfeature_counter\u001b[0m \u001b[0;34m=\u001b[0m \u001b[0;34m{\u001b[0m\u001b[0;34m}\u001b[0m\u001b[0;34m\u001b[0m\u001b[0;34m\u001b[0m\u001b[0m\n\u001b[0;32m-> 1110\u001b[0;31m             \u001b[0;32mfor\u001b[0m \u001b[0mfeature\u001b[0m \u001b[0;32min\u001b[0m \u001b[0manalyze\u001b[0m\u001b[0;34m(\u001b[0m\u001b[0mdoc\u001b[0m\u001b[0;34m)\u001b[0m\u001b[0;34m:\u001b[0m\u001b[0;34m\u001b[0m\u001b[0;34m\u001b[0m\u001b[0m\n\u001b[0m\u001b[1;32m   1111\u001b[0m                 \u001b[0;32mtry\u001b[0m\u001b[0;34m:\u001b[0m\u001b[0;34m\u001b[0m\u001b[0;34m\u001b[0m\u001b[0m\n\u001b[1;32m   1112\u001b[0m                     \u001b[0mfeature_idx\u001b[0m \u001b[0;34m=\u001b[0m \u001b[0mvocabulary\u001b[0m\u001b[0;34m[\u001b[0m\u001b[0mfeature\u001b[0m\u001b[0;34m]\u001b[0m\u001b[0;34m\u001b[0m\u001b[0;34m\u001b[0m\u001b[0m\n",
      "\u001b[0;32m~/opt/anaconda3/lib/python3.8/site-packages/sklearn/feature_extraction/text.py\u001b[0m in \u001b[0;36m_analyze\u001b[0;34m(doc, analyzer, tokenizer, ngrams, preprocessor, decoder, stop_words)\u001b[0m\n\u001b[1;32m    102\u001b[0m     \u001b[0;32melse\u001b[0m\u001b[0;34m:\u001b[0m\u001b[0;34m\u001b[0m\u001b[0;34m\u001b[0m\u001b[0m\n\u001b[1;32m    103\u001b[0m         \u001b[0;32mif\u001b[0m \u001b[0mpreprocessor\u001b[0m \u001b[0;32mis\u001b[0m \u001b[0;32mnot\u001b[0m \u001b[0;32mNone\u001b[0m\u001b[0;34m:\u001b[0m\u001b[0;34m\u001b[0m\u001b[0;34m\u001b[0m\u001b[0m\n\u001b[0;32m--> 104\u001b[0;31m             \u001b[0mdoc\u001b[0m \u001b[0;34m=\u001b[0m \u001b[0mpreprocessor\u001b[0m\u001b[0;34m(\u001b[0m\u001b[0mdoc\u001b[0m\u001b[0;34m)\u001b[0m\u001b[0;34m\u001b[0m\u001b[0;34m\u001b[0m\u001b[0m\n\u001b[0m\u001b[1;32m    105\u001b[0m         \u001b[0;32mif\u001b[0m \u001b[0mtokenizer\u001b[0m \u001b[0;32mis\u001b[0m \u001b[0;32mnot\u001b[0m \u001b[0;32mNone\u001b[0m\u001b[0;34m:\u001b[0m\u001b[0;34m\u001b[0m\u001b[0;34m\u001b[0m\u001b[0m\n\u001b[1;32m    106\u001b[0m             \u001b[0mdoc\u001b[0m \u001b[0;34m=\u001b[0m \u001b[0mtokenizer\u001b[0m\u001b[0;34m(\u001b[0m\u001b[0mdoc\u001b[0m\u001b[0;34m)\u001b[0m\u001b[0;34m\u001b[0m\u001b[0;34m\u001b[0m\u001b[0m\n",
      "\u001b[0;32m~/opt/anaconda3/lib/python3.8/site-packages/sklearn/feature_extraction/text.py\u001b[0m in \u001b[0;36m_preprocess\u001b[0;34m(doc, accent_function, lower)\u001b[0m\n\u001b[1;32m     67\u001b[0m     \"\"\"\n\u001b[1;32m     68\u001b[0m     \u001b[0;32mif\u001b[0m \u001b[0mlower\u001b[0m\u001b[0;34m:\u001b[0m\u001b[0;34m\u001b[0m\u001b[0;34m\u001b[0m\u001b[0m\n\u001b[0;32m---> 69\u001b[0;31m         \u001b[0mdoc\u001b[0m \u001b[0;34m=\u001b[0m \u001b[0mdoc\u001b[0m\u001b[0;34m.\u001b[0m\u001b[0mlower\u001b[0m\u001b[0;34m(\u001b[0m\u001b[0;34m)\u001b[0m\u001b[0;34m\u001b[0m\u001b[0;34m\u001b[0m\u001b[0m\n\u001b[0m\u001b[1;32m     70\u001b[0m     \u001b[0;32mif\u001b[0m \u001b[0maccent_function\u001b[0m \u001b[0;32mis\u001b[0m \u001b[0;32mnot\u001b[0m \u001b[0;32mNone\u001b[0m\u001b[0;34m:\u001b[0m\u001b[0;34m\u001b[0m\u001b[0;34m\u001b[0m\u001b[0m\n\u001b[1;32m     71\u001b[0m         \u001b[0mdoc\u001b[0m \u001b[0;34m=\u001b[0m \u001b[0maccent_function\u001b[0m\u001b[0;34m(\u001b[0m\u001b[0mdoc\u001b[0m\u001b[0;34m)\u001b[0m\u001b[0;34m\u001b[0m\u001b[0;34m\u001b[0m\u001b[0m\n",
      "\u001b[0;31mAttributeError\u001b[0m: 'numpy.ndarray' object has no attribute 'lower'"
     ]
    }
   ],
   "source": [
    "vectorizer = TfidfVectorizer()\n",
    "corpus_tfidf = vectorizer.fit_transform(corpus_vec)"
   ]
  },
  {
   "cell_type": "code",
   "execution_count": null,
   "metadata": {},
   "outputs": [],
   "source": []
  },
  {
   "cell_type": "code",
   "execution_count": 327,
   "metadata": {
    "scrolled": true
   },
   "outputs": [],
   "source": [
    "corpus = df['hpo']"
   ]
  },
  {
   "cell_type": "markdown",
   "metadata": {},
   "source": [
    "### Create TFIDF disease vectors"
   ]
  },
  {
   "cell_type": "code",
   "execution_count": 328,
   "metadata": {},
   "outputs": [],
   "source": [
    "vectorizer = TfidfVectorizer()\n",
    "hpo_vec = vectorizer.fit_transform(corpus)"
   ]
  },
  {
   "cell_type": "markdown",
   "metadata": {},
   "source": [
    "### Create TFIDF query vector"
   ]
  },
  {
   "cell_type": "code",
   "execution_count": 329,
   "metadata": {},
   "outputs": [],
   "source": [
    "query = (\n",
    "    'HP_0012531,HP_0001263,HP_0000152,HP_0000234,HP_0000707,HP_0001250,HP_0001298,HP_0002011,HP_0002384,HP_0012443,HP_0001649,HP_0002349,HP_0007359,HP_0004372,HP_0001254,HP_0002329,HP_0004897,HP_0011024,HP_0025031,HP_0002060,HP_0003011,HP_0003198,HP_0003458,HP_0004303,HP_0012759,HP_0040290,HP_0200134,HP_0000708,HP_0000818,HP_0001438,HP_0001742,HP_0001943,HP_0003202,HP_0011013,HP_0000765,HP_0001626,HP_0001627,HP_0001697,HP_0002910,HP_0012393,HP_0045026,HP_0000153,HP_0000163,HP_0000486,HP_0000737,HP_0001270,HP_0001633,HP_0001653,HP_0001654,HP_0001698,HP_0001941,HP_0002242,HP_0002576,HP_0002814,HP_0003128,HP_0004796,HP_0005214,HP_0006705,HP_0010676,HP_0010877,HP_0040066,HP_0003111,HP_0012378,HP_0000577,HP_0001549,HP_0001637,HP_0001942,HP_0002086,HP_0002244,HP_0011703,HP_0012735,HP_0000565,HP_0000716,HP_0000739,HP_0000750,HP_0000958,HP_0001251,HP_0001252,HP_0001289,HP_0001290,HP_0001392,HP_0001635,HP_0001638,HP_0001946,HP_0001974,HP_0002087,HP_0002104,HP_0002133,HP_0002474,HP_0002480,HP_0002684,HP_0002715,HP_0002813,HP_0003201,HP_0003558,HP_0008119,HP_0009900,HP_0011105,HP_0011343,HP_0011439,HP_0011663,HP_0012103,HP_0012639,HP_0012847,HP_0000019,HP_0000194,HP_0000271,HP_0000315,HP_0000366,HP_0000478,HP_0000490,HP_0000504,HP_0000520,HP_0000593,HP_0000646,HP_0000819,HP_0000995,HP_0001276,HP_0001367,HP_0001623,HP_0001701,HP_0002013,HP_0002015,HP_0002067,HP_0002079,HP_0002098,HP_0002353,HP_0002375,HP_0002487,HP_0002509,HP_0002789,HP_0002883,HP_0003040,HP_0003270,HP_0003698,HP_0003764,HP_0004328,HP_0005335,HP_0005957,HP_0005978,HP_0006872,HP_0006895,HP_0007239,HP_0010808,HP_0011885,HP_0011886,HP_0011947,HP_0012819,HP_0025085,HP_0025406,HP_0030048,HP_0031417,HP_0100649,HP_0100962,HP_0200055,HP_0200136'\n",
    ")\n",
    "re.sub(query, ':', '_')\n",
    "dis_name = 'Metabolic encephalomyopathic crises, recurrent, with rhabdomyolysis, cardiac arrhythmias, and neurodegeneration'\n",
    "query_vec = vectorizer.transform([query])"
   ]
  },
  {
   "cell_type": "code",
   "execution_count": 330,
   "metadata": {},
   "outputs": [
    {
     "data": {
      "text/plain": [
       "<1x10560 sparse matrix of type '<class 'numpy.float64'>'\n",
       "\twith 152 stored elements in Compressed Sparse Row format>"
      ]
     },
     "execution_count": 330,
     "metadata": {},
     "output_type": "execute_result"
    }
   ],
   "source": [
    "query_vec"
   ]
  },
  {
   "cell_type": "code",
   "execution_count": 331,
   "metadata": {},
   "outputs": [],
   "source": [
    "cos_sim = cosine_similarity(hpo_vec, query_vec)"
   ]
  },
  {
   "cell_type": "code",
   "execution_count": 332,
   "metadata": {},
   "outputs": [
    {
     "data": {
      "text/plain": [
       "(12606, 1)"
      ]
     },
     "execution_count": 332,
     "metadata": {},
     "output_type": "execute_result"
    }
   ],
   "source": [
    "cos_sim.shape"
   ]
  },
  {
   "cell_type": "code",
   "execution_count": 333,
   "metadata": {},
   "outputs": [],
   "source": [
    "cs_df = pd.DataFrame(cos_sim, index=df['name'], columns=['similarity'])\n",
    "cs_df.index.rename('disease', inplace=True)"
   ]
  },
  {
   "cell_type": "code",
   "execution_count": 334,
   "metadata": {},
   "outputs": [],
   "source": [
    "cs_df.sort_values(by='similarity', ascending=False, inplace=True)"
   ]
  },
  {
   "cell_type": "code",
   "execution_count": 335,
   "metadata": {},
   "outputs": [
    {
     "data": {
      "text/plain": [
       "similarity    0.074243\n",
       "Name: Metabolic encephalomyopathic crises, recurrent, with rhabdomyolysis, cardiac arrhythmias, and neurodegeneration, dtype: float64"
      ]
     },
     "execution_count": 335,
     "metadata": {},
     "output_type": "execute_result"
    }
   ],
   "source": [
    "cs_df.loc[dis_name]"
   ]
  },
  {
   "cell_type": "code",
   "execution_count": 336,
   "metadata": {},
   "outputs": [
    {
     "data": {
      "text/plain": [
       "[203]"
      ]
     },
     "execution_count": 336,
     "metadata": {},
     "output_type": "execute_result"
    }
   ],
   "source": [
    "cs_dfx = cs_df.reset_index()\n",
    "cs_dfx.index[cs_dfx['disease'] == dis_name].values.tolist()"
   ]
  },
  {
   "cell_type": "code",
   "execution_count": 337,
   "metadata": {
    "scrolled": true
   },
   "outputs": [
    {
     "data": {
      "text/html": [
       "<div>\n",
       "<style scoped>\n",
       "    .dataframe tbody tr th:only-of-type {\n",
       "        vertical-align: middle;\n",
       "    }\n",
       "\n",
       "    .dataframe tbody tr th {\n",
       "        vertical-align: top;\n",
       "    }\n",
       "\n",
       "    .dataframe thead th {\n",
       "        text-align: right;\n",
       "    }\n",
       "</style>\n",
       "<table border=\"1\" class=\"dataframe\">\n",
       "  <thead>\n",
       "    <tr style=\"text-align: right;\">\n",
       "      <th></th>\n",
       "      <th>similarity</th>\n",
       "    </tr>\n",
       "    <tr>\n",
       "      <th>disease</th>\n",
       "      <th></th>\n",
       "    </tr>\n",
       "  </thead>\n",
       "  <tbody>\n",
       "    <tr>\n",
       "      <th>Fructose-1,6-Bisphosphatase deficiency</th>\n",
       "      <td>0.166869</td>\n",
       "    </tr>\n",
       "    <tr>\n",
       "      <th>Holocarboxylase synthetase deficiency</th>\n",
       "      <td>0.137045</td>\n",
       "    </tr>\n",
       "    <tr>\n",
       "      <th>ALG3-CDG</th>\n",
       "      <td>0.130856</td>\n",
       "    </tr>\n",
       "    <tr>\n",
       "      <th>Cholera</th>\n",
       "      <td>0.129257</td>\n",
       "    </tr>\n",
       "    <tr>\n",
       "      <th>Fructose-1,6-bisphosphatase deficiency</th>\n",
       "      <td>0.123554</td>\n",
       "    </tr>\n",
       "    <tr>\n",
       "      <th>Acquired methemoglobinemia</th>\n",
       "      <td>0.120812</td>\n",
       "    </tr>\n",
       "    <tr>\n",
       "      <th>Autosomal dominant progressive external ophthalmoplegia</th>\n",
       "      <td>0.119005</td>\n",
       "    </tr>\n",
       "    <tr>\n",
       "      <th>Cardiomyopathy-hypotonia-lactic acidosis syndrome</th>\n",
       "      <td>0.118739</td>\n",
       "    </tr>\n",
       "    <tr>\n",
       "      <th>Exercise-induced malignant hyperthermia</th>\n",
       "      <td>0.118291</td>\n",
       "    </tr>\n",
       "    <tr>\n",
       "      <th>Infantile liver failure syndrome 2</th>\n",
       "      <td>0.116930</td>\n",
       "    </tr>\n",
       "    <tr>\n",
       "      <th>Malignant hyperthermia, susceptibility to, 3</th>\n",
       "      <td>0.116156</td>\n",
       "    </tr>\n",
       "    <tr>\n",
       "      <th>Silent sinus syndrome</th>\n",
       "      <td>0.111479</td>\n",
       "    </tr>\n",
       "    <tr>\n",
       "      <th>Congenital enterovirus infection</th>\n",
       "      <td>0.111325</td>\n",
       "    </tr>\n",
       "    <tr>\n",
       "      <th>Colchicine poisoning</th>\n",
       "      <td>0.111287</td>\n",
       "    </tr>\n",
       "    <tr>\n",
       "      <th>Hydroxykynureninuria</th>\n",
       "      <td>0.108469</td>\n",
       "    </tr>\n",
       "  </tbody>\n",
       "</table>\n",
       "</div>"
      ],
      "text/plain": [
       "                                                    similarity\n",
       "disease                                                       \n",
       "Fructose-1,6-Bisphosphatase deficiency                0.166869\n",
       "Holocarboxylase synthetase deficiency                 0.137045\n",
       "ALG3-CDG                                              0.130856\n",
       "Cholera                                               0.129257\n",
       "Fructose-1,6-bisphosphatase deficiency                0.123554\n",
       "Acquired methemoglobinemia                            0.120812\n",
       "Autosomal dominant progressive external ophthal...    0.119005\n",
       "Cardiomyopathy-hypotonia-lactic acidosis syndrome     0.118739\n",
       "Exercise-induced malignant hyperthermia               0.118291\n",
       "Infantile liver failure syndrome 2                    0.116930\n",
       "Malignant hyperthermia, susceptibility to, 3          0.116156\n",
       "Silent sinus syndrome                                 0.111479\n",
       "Congenital enterovirus infection                      0.111325\n",
       "Colchicine poisoning                                  0.111287\n",
       "Hydroxykynureninuria                                  0.108469"
      ]
     },
     "execution_count": 337,
     "metadata": {},
     "output_type": "execute_result"
    }
   ],
   "source": [
    "cs_df.iloc[0:15,:]"
   ]
  },
  {
   "cell_type": "code",
   "execution_count": 338,
   "metadata": {
    "scrolled": true
   },
   "outputs": [
    {
     "data": {
      "text/plain": [
       "<AxesSubplot:xlabel='similarity', ylabel='disease'>"
      ]
     },
     "execution_count": 338,
     "metadata": {},
     "output_type": "execute_result"
    },
    {
     "data": {
      "image/png": "[encoded data removed]",
      "text/plain": [
       "<Figure size 1080x576 with 1 Axes>"
      ]
     },
     "metadata": {
      "needs_background": "light"
     },
     "output_type": "display_data"
    }
   ],
   "source": [
    "plt.figure(figsize=(15,8))\n",
    "sns.barplot(data=cs_df.iloc[0:25,:].reset_index(), x='similarity', y='disease')\n"
   ]
  },
  {
   "cell_type": "code",
   "execution_count": 339,
   "metadata": {
    "scrolled": true
   },
   "outputs": [
    {
     "data": {
      "text/plain": [
       "<AxesSubplot:ylabel='Density'>"
      ]
     },
     "execution_count": 339,
     "metadata": {},
     "output_type": "execute_result"
    },
    {
     "data": {
      "image/png": "[encoded data removed]",
      "text/plain": [
       "<Figure size 432x288 with 1 Axes>"
      ]
     },
     "metadata": {
      "needs_background": "light"
     },
     "output_type": "display_data"
    }
   ],
   "source": [
    "sns.kdeplot(data=cs_df)"
   ]
  },
  {
   "cell_type": "code",
   "execution_count": 340,
   "metadata": {},
   "outputs": [],
   "source": [
    "# cs_df"
   ]
  },
  {
   "cell_type": "code",
   "execution_count": 341,
   "metadata": {},
   "outputs": [],
   "source": [
    "# cs_df = cs_df.stack().reset_index()\n",
    "# cs_df.columns = ['Row','Column','Value']"
   ]
  },
  {
   "cell_type": "code",
   "execution_count": 342,
   "metadata": {},
   "outputs": [],
   "source": [
    "# cs_df = cs_df[cs_df['Value'] > 0]"
   ]
  },
  {
   "cell_type": "code",
   "execution_count": 343,
   "metadata": {},
   "outputs": [],
   "source": [
    "# cs_df = cs_df.sort_values(ascending=False, by='Value')"
   ]
  },
  {
   "cell_type": "code",
   "execution_count": 344,
   "metadata": {},
   "outputs": [],
   "source": [
    "# cs_df.sample(10000).sort_values(ascending=False, by='Value')"
   ]
  },
  {
   "cell_type": "code",
   "execution_count": 345,
   "metadata": {},
   "outputs": [],
   "source": [
    "# cs_df.tail(100)"
   ]
  },
  {
   "cell_type": "markdown",
   "metadata": {},
   "source": [
    "corpusX = [\n",
    "          'This is the first document.',\n",
    "          'This is the second second document.',\n",
    "          'And the third one.',\n",
    "          'Is this the first document?',\n",
    "         ]"
   ]
  },
  {
   "cell_type": "markdown",
   "metadata": {},
   "source": [
    "data = [\n",
    "    ['ORPHA_262',\n",
    "     'Duchenne and Becker muscular dystrophy',\n",
    "     'HP_0001256,HP_0001288,HP_0001387,HP_0001639,HP_0002376,HP_0002650,HP_0003100,HP_0003198,HP_0003202,HP_0003236,HP_0003307,HP_0003457,HP_0004349'\n",
    "    ],\n",
    "    ['OMIM_616339', \n",
    "     'Epileptic encephalopathy, early infantile, 29',\n",
    "     'HP_0008936,HP_0002059,HP_0003577,HP_0000252,HP_0004322,HP_0002310,HP_0002451,HP_0001263,HP_0001284,HP_0003593,HP_0002072,HP_0032794,HP_0000639,HP_0001508,HP_0001838,HP_0002827,HP_0009830,HP_0000007,HP_0200134,HP_0003429,HP_0001511,HP_0001257,HP_0000643'\n",
    "    ],\n",
    "    ['OMIM_232240',\n",
    "     'Glycogen storage disease Ic',\n",
    "     'HP_0002884,HP_0003077,HP_0000083,HP_0002240,HP_0410175,HP_0012522,HP_0001943,HP_0001946,HP_0001942,HP_0001402,HP_0003128,HP_0003623,HP_0002037,HP_0000991,HP_0000097,HP_0000790,HP_0000093,HP_0002092,HP_0012213,HP_0006280,HP_0040289,HP_0010280,HP_0000822,HP_0000007,HP_0000823,HP_0002788,HP_0001114,HP_0001997,HP_0002149'\n",
    "    ],\n",
    "    ['OMIM_617751',\n",
    "     'Intellectual developmental disorder, autosomal dominant 48',\n",
    "     'HP_0001250,HP_0001252,HP_0003593,HP_0011463,HP_0011461,HP_0001647,HP_0000637,HP_0001643,HP_0000752,HP_0001249,HP_0003623,HP_0002553,HP_0000252,HP_0001344,HP_0001388,HP_0002079,HP_0002198,HP_0002195,HP_0000407,HP_0007033,HP_0000729,HP_0001537,HP_0000964,HP_0000403,HP_0000047,HP_0000006,HP_0000369,HP_0002786,HP_0000463,HP_0002365,HP_0002360,HP_0002280,HP_0010942,HP_0001629,HP_0008872,HP_0000733,HP_0009765,HP_0006532,HP_0000256,HP_0001320,HP_0006956,HP_0002650,HP_0001321,HP_0000194,HP_0000426,HP_0001357,HP_0000664,HP_0001511,HP_0002126'\n",
    "    ],\n",
    "    ['OMIM_617622',\n",
    "     'Joubert syndrome 30',\n",
    "     'HP_0003577,HP_0000750,HP_0000496,HP_0020185,HP_0001250,HP_0001162,HP_0001272,HP_0001263,HP_0001252,HP_0002282,HP_0000508,HP_0007663,HP_0002419,HP_0001305,HP_0000007,HP_0002119,HP_0002789,HP_0000556,HP_0001249,HP_0002104'\n",
    "    ],\n",
    "    ['OMIM_612291',\n",
    "     'Joubert syndrome 8',\n",
    "     'HP_0002883,HP_0001276,HP_0001344,HP_0031936,HP_0002085,HP_0001252,HP_0001263,HP_0000580,HP_0002240,HP_0001251,HP_0001290,HP_0000508,HP_0000657,HP_0002419,HP_0000007,HP_0000543,HP_0006579,HP_0001513,HP_0001249,HP_0003623'\n",
    "    ],\n",
    "    ['OMIM_613724',\n",
    "     'Leukoencephalopathy with dystonia and motor neuropathy',\n",
    "     'HP_0000473,HP_0000815,HP_0002450,HP_0002352,HP_0000570,HP_0009830,HP_0004409,HP_0000007,HP_0010663,HP_0002080,HP_0002346,HP_0000027'\n",
    "    ],\n",
    "    ['OMIM_151623',\n",
    "     'Li-Fraumeni syndrome',\n",
    "     'HP_0002894,HP_0002488,HP_0003002,HP_0003003,HP_0030078,HP_0012125,HP_0030448,HP_0100787,HP_0100768,HP_0002669,HP_0002667,HP_0000006,HP_0006744'\n",
    "    ],\n",
    "    ['OMIM_619562',\n",
    "     'Joubert syndrome 39',\n",
    "     'HP_0001320,HP_0030674,HP_0002085,HP_0001263,HP_0004383,HP_0100259,HP_0040213,HP_0009183,HP_0007021,HP_0000657,HP_0000007,HP_0002419,HP_0025502,HP_0000113,HP_0000556'\n",
    "    ],\n",
    "    ['OMIM_601954',\n",
    "     'Muscular dystrophy, limb-girdle, type 2G',\n",
    "     'HP_0002355,HP_0003236,HP_0008948,HP_0003551,HP_0003560,HP_0009053,HP_0008981,HP_0009025,HP_0009046,HP_0009027,HP_0008994,HP_0000007,HP_0003805,HP_0008997,HP_0002522,HP_0003557,HP_0008944'\n",
    "    ],\n",
    "    ]"
   ]
  },
  {
   "cell_type": "code",
   "execution_count": 346,
   "metadata": {},
   "outputs": [],
   "source": [
    "# cs_df = cs_df.where(np.triu(np.ones(cs_df.shape), k=1).astype(bool))"
   ]
  }
 ],
 "metadata": {
  "kernelspec": {
   "display_name": "Python 3",
   "language": "python",
   "name": "python3"
  },
  "language_info": {
   "codemirror_mode": {
    "name": "ipython",
    "version": 3
   },
   "file_extension": ".py",
   "mimetype": "text/x-python",
   "name": "python",
   "nbconvert_exporter": "python",
   "pygments_lexer": "ipython3",
   "version": "3.8.5"
  }
 },
 "nbformat": 4,
 "nbformat_minor": 4
}
